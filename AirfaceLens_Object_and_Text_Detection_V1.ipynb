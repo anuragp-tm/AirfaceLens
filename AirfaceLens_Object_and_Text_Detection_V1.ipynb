{
  "nbformat": 4,
  "nbformat_minor": 0,
  "metadata": {
    "colab": {
      "name": "AirfaceLens_Object_and_Text_Detection_V1.ipynb",
      "provenance": [],
      "authorship_tag": "ABX9TyMtnNmDp1JttL4aGd2mUrrR",
      "include_colab_link": true
    },
    "kernelspec": {
      "name": "python3",
      "display_name": "Python 3"
    },
    "language_info": {
      "name": "python"
    }
  },
  "cells": [
    {
      "cell_type": "markdown",
      "metadata": {
        "id": "view-in-github",
        "colab_type": "text"
      },
      "source": [
        "<a href=\"https://colab.research.google.com/github/anuragp-tm/AirfaceLens/blob/main/AirfaceLens_Object_and_Text_Detection_V1.ipynb\" target=\"_parent\"><img src=\"https://colab.research.google.com/assets/colab-badge.svg\" alt=\"Open In Colab\"/></a>"
      ]
    },
    {
      "cell_type": "code",
      "metadata": {
        "colab": {
          "base_uri": "https://localhost:8080/",
          "height": 34
        },
        "id": "l1QFqOD2KiKL",
        "outputId": "8d62e12b-af8e-4d1e-acf9-8dae91ac81e3"
      },
      "source": [
        "import cv2\n",
        "import numpy\n",
        "import tensorflow as tf\n",
        "import matplotlib.pyplot as plt\n",
        "\n",
        "width = 1028\n",
        "height = 1028\n",
        "\n",
        "from IPython.display import display, Javascript\n",
        "from google.colab.output import eval_js\n",
        "from base64 import b64decode\n",
        "\n",
        "def take_photo(filename='photo.jpg', quality=0.8):\n",
        "  js = Javascript('''\n",
        "    async function takePhoto(quality) {\n",
        "      const div = document.createElement('div');\n",
        "      const capture = document.createElement('button');\n",
        "      capture.textContent = 'Capture';\n",
        "      div.appendChild(capture);\n",
        "\n",
        "      const video = document.createElement('video');\n",
        "      video.style.display = 'block';\n",
        "      const stream = await navigator.mediaDevices.getUserMedia({video: true});\n",
        "\n",
        "      document.body.appendChild(div);\n",
        "      div.appendChild(video);\n",
        "      video.srcObject = stream;\n",
        "      await video.play();\n",
        "\n",
        "      // Resize the output to fit the video element.\n",
        "      google.colab.output.setIframeHeight(document.documentElement.scrollHeight, true);\n",
        "\n",
        "      // Wait for Capture to be clicked.\n",
        "      await new Promise((resolve) => capture.onclick = resolve);\n",
        "\n",
        "      const canvas = document.createElement('canvas');\n",
        "      canvas.width = video.videoWidth;\n",
        "      canvas.height = video.videoHeight;\n",
        "      canvas.getContext('2d').drawImage(video, 0, 0);\n",
        "      stream.getVideoTracks()[0].stop();\n",
        "      div.remove();\n",
        "      return canvas.toDataURL('image/jpeg', quality);\n",
        "    }\n",
        "    ''')\n",
        "  display(js)\n",
        "  data = eval_js('takePhoto({})'.format(quality))\n",
        "  binary = b64decode(data.split(',')[1])\n",
        "  with open(filename, 'wb') as f:\n",
        "    f.write(binary)\n",
        "  return filename\n",
        "cap=take_photo()\n",
        "print(cap)"
      ],
      "execution_count": null,
      "outputs": [
        {
          "output_type": "display_data",
          "data": {
            "application/javascript": [
              "\n",
              "    async function takePhoto(quality) {\n",
              "      const div = document.createElement('div');\n",
              "      const capture = document.createElement('button');\n",
              "      capture.textContent = 'Capture';\n",
              "      div.appendChild(capture);\n",
              "\n",
              "      const video = document.createElement('video');\n",
              "      video.style.display = 'block';\n",
              "      const stream = await navigator.mediaDevices.getUserMedia({video: true});\n",
              "\n",
              "      document.body.appendChild(div);\n",
              "      div.appendChild(video);\n",
              "      video.srcObject = stream;\n",
              "      await video.play();\n",
              "\n",
              "      // Resize the output to fit the video element.\n",
              "      google.colab.output.setIframeHeight(document.documentElement.scrollHeight, true);\n",
              "\n",
              "      // Wait for Capture to be clicked.\n",
              "      await new Promise((resolve) => capture.onclick = resolve);\n",
              "\n",
              "      const canvas = document.createElement('canvas');\n",
              "      canvas.width = video.videoWidth;\n",
              "      canvas.height = video.videoHeight;\n",
              "      canvas.getContext('2d').drawImage(video, 0, 0);\n",
              "      stream.getVideoTracks()[0].stop();\n",
              "      div.remove();\n",
              "      return canvas.toDataURL('image/jpeg', quality);\n",
              "    }\n",
              "    "
            ],
            "text/plain": [
              "<IPython.core.display.Javascript object>"
            ]
          },
          "metadata": {}
        },
        {
          "output_type": "stream",
          "name": "stdout",
          "text": [
            "photo.jpg\n"
          ]
        }
      ]
    },
    {
      "cell_type": "code",
      "metadata": {
        "id": "koclNsE5KW9L"
      },
      "source": [
        "from google.colab.patches import cv2_imshow\n",
        "\n",
        "\n",
        "# capturing the video\n",
        "  # camera = cv2.VideoCapture(0,cv2.CAP_DSHOW)\n",
        "  # for i in range(1):\n",
        "  # return_value, pic = camera.read()\n",
        "  # cv2.imwrite('task1'+str(i)+'.png', pic)\n",
        "\n",
        "#Resize to respect the input_shape\n",
        "cap=cv2.imread('/content/photo.jpg')\n",
        "inp = cv2.resize(cap, (width , height ))\n",
        "\n",
        "#Convert img to RGB\n",
        "rgb = cv2.cvtColor(inp, cv2.COLOR_BGR2RGB)\n",
        "\n",
        "# Converting to uint 8\n",
        "rgb_tensor = tf.convert_to_tensor(rgb, dtype=tf.uint8)\n",
        "\n",
        "#Add dims to rgb_tensor\n",
        "rgb_tensor = tf.expand_dims(rgb_tensor , 0)\n",
        "\n",
        "#we can load the model and the labels\n",
        "\n",
        "import tensorflow_hub as hub\n",
        "import pandas as pd\n",
        "\n",
        "# Loading model directly from TensorFlow Hub\n",
        "detector = hub.load(\"https://tfhub.dev/tensorflow/efficientdet/lite2/detection/1\")\n",
        "\n",
        "# Loading csv with labels of classes\n",
        "labels = pd.read_csv('/content/labels.csv', sep=';', index_col='ID')\n",
        "labels = labels['OBJECT (2017 REL.)']\n",
        "\n",
        "#we can create the predictions and put in the image the boxes and labels found:\n",
        "# Creating prediction\n",
        "boxes, scores, classes, num_detections = detector(rgb_tensor)\n",
        "\n",
        "# Processing outputs\n",
        "pred_labels = classes.numpy().astype('int')[0]\n",
        "pred_labels = [labels[i] for i in pred_labels]\n",
        "pred_boxes = boxes.numpy()[0].astype('int')\n",
        "pred_scores = scores.numpy()[0]\n",
        "\n",
        "# Putting the boxes and labels on the image\n",
        "for score, ( ymin,xmin,ymax,xmax), label in zip(pred_scores, pred_boxes, pred_labels):\n",
        "    if score < 0.5:\n",
        "        continue\n",
        "\n",
        "    score_txt = f'{100 * round(score)}%'\n",
        "    img_boxes = cv2.rectangle(rgb,(xmin, ymax),(xmax, ymin),(0,255,0),2)\n",
        "    font = cv2.FONT_HERSHEY_SIMPLEX\n",
        "    cv2.putText(img_boxes, label,(xmin, ymax-10), font, 1.5, (255,0,0), 2, cv2.LINE_AA)\n",
        "    cv2.putText(img_boxes,score_txt,(xmax, ymax-10), font, 1.5, (255,0,0), 2, cv2.LINE_AA)\n",
        "    cv2_imshow(img_boxes)"
      ],
      "execution_count": null,
      "outputs": []
    },
    {
      "cell_type": "code",
      "metadata": {
        "colab": {
          "base_uri": "https://localhost:8080/"
        },
        "id": "hvvjt4yvuK6i",
        "outputId": "d919f275-c5e4-467f-caa9-89fddc0b0bc2"
      },
      "source": [
        "import easyocr\n",
        "reader = easyocr.Reader(['en']) \n",
        "result = reader.readtext('/content/images/nokia.png',detail=0)\n",
        "print(result)"
      ],
      "execution_count": 11,
      "outputs": [
        {
          "output_type": "stream",
          "name": "stderr",
          "text": [
            "CUDA not available - defaulting to CPU. Note: This module is much faster with a GPU.\n"
          ]
        },
        {
          "output_type": "stream",
          "name": "stdout",
          "text": [
            "['Connecting People']\n"
          ]
        }
      ]
    },
    {
      "cell_type": "code",
      "metadata": {
        "colab": {
          "base_uri": "https://localhost:8080/"
        },
        "id": "gPM8sE-dvqrs",
        "outputId": "1667fe3d-c619-4b36-89cd-56d762bcc5b1"
      },
      "source": [
        "import easyocr\n",
        "reader = easyocr.Reader(['en']) \n",
        "result = reader.readtext('/content/images/cocacola.jpeg',detail=0)\n",
        "print(result)"
      ],
      "execution_count": 5,
      "outputs": [
        {
          "output_type": "stream",
          "name": "stderr",
          "text": [
            "CUDA not available - defaulting to CPU. Note: This module is much faster with a GPU.\n"
          ]
        },
        {
          "output_type": "stream",
          "name": "stdout",
          "text": [
            "['\"h0i4al t5', '(ca Gcla']\n"
          ]
        }
      ]
    },
    {
      "cell_type": "code",
      "metadata": {
        "colab": {
          "base_uri": "https://localhost:8080/"
        },
        "id": "9nuLk9fawDPL",
        "outputId": "0158b3f9-35a7-4e42-890e-a9dd77cd9a58"
      },
      "source": [
        "import easyocr\n",
        "reader = easyocr.Reader(['en']) \n",
        "result = reader.readtext('/content/images/nescape.jpeg',detail=0)\n",
        "print(result)"
      ],
      "execution_count": 6,
      "outputs": [
        {
          "output_type": "stream",
          "name": "stderr",
          "text": [
            "CUDA not available - defaulting to CPU. Note: This module is much faster with a GPU.\n"
          ]
        },
        {
          "output_type": "stream",
          "name": "stdout",
          "text": [
            "['NEScAFE', 'cLA $', 'oor', 'E1']\n"
          ]
        }
      ]
    },
    {
      "cell_type": "code",
      "metadata": {
        "colab": {
          "base_uri": "https://localhost:8080/"
        },
        "id": "isyWOH10wRPU",
        "outputId": "95846163-ad07-4fb4-b281-46820be99ec0"
      },
      "source": [
        "import easyocr\n",
        "reader = easyocr.Reader(['en']) \n",
        "result = reader.readtext('/content/images/crown.jpg',detail=0)\n",
        "print(result)"
      ],
      "execution_count": 7,
      "outputs": [
        {
          "output_type": "stream",
          "name": "stderr",
          "text": [
            "CUDA not available - defaulting to CPU. Note: This module is much faster with a GPU.\n"
          ]
        },
        {
          "output_type": "stream",
          "name": "stdout",
          "text": [
            "['CROWN', 'YOURLOGO HERE']\n"
          ]
        }
      ]
    },
    {
      "cell_type": "code",
      "metadata": {
        "colab": {
          "base_uri": "https://localhost:8080/"
        },
        "id": "wXucJSH_wajj",
        "outputId": "ef9966ff-811a-4f26-9d6e-51a2fd30492a"
      },
      "source": [
        "import easyocr\n",
        "reader = easyocr.Reader(['en']) \n",
        "result = reader.readtext('/content/images/altmetric.png',detail=0)\n",
        "print(result)"
      ],
      "execution_count": 8,
      "outputs": [
        {
          "output_type": "stream",
          "name": "stderr",
          "text": [
            "CUDA not available - defaulting to CPU. Note: This module is much faster with a GPU.\n"
          ]
        },
        {
          "output_type": "stream",
          "name": "stdout",
          "text": [
            "['Altmetric']\n"
          ]
        }
      ]
    },
    {
      "cell_type": "code",
      "metadata": {
        "colab": {
          "base_uri": "https://localhost:8080/"
        },
        "id": "xlunrGvcwhdL",
        "outputId": "753abdc2-7981-49a9-c60e-fc1abe282e59"
      },
      "source": [
        "import easyocr\n",
        "reader = easyocr.Reader(['en']) \n",
        "result = reader.readtext('/content/images/cocacola.png',detail=0)\n",
        "print(result)"
      ],
      "execution_count": 10,
      "outputs": [
        {
          "output_type": "stream",
          "name": "stderr",
          "text": [
            "CUDA not available - defaulting to CPU. Note: This module is much faster with a GPU.\n"
          ]
        },
        {
          "output_type": "stream",
          "name": "stdout",
          "text": [
            "['GcGola']\n"
          ]
        }
      ]
    },
    {
      "cell_type": "code",
      "metadata": {
        "colab": {
          "base_uri": "https://localhost:8080/"
        },
        "id": "-9FHtt3q2HD5",
        "outputId": "0e86f2ed-9142-4607-c44d-9e0ba11df839"
      },
      "source": [
        "import easyocr\n",
        "reader = easyocr.Reader(['en']) \n",
        "result = reader.readtext('/content/images/disney.png',detail=0)\n",
        "print(result)"
      ],
      "execution_count": 13,
      "outputs": [
        {
          "output_type": "stream",
          "name": "stderr",
          "text": [
            "CUDA not available - defaulting to CPU. Note: This module is much faster with a GPU.\n"
          ]
        },
        {
          "output_type": "stream",
          "name": "stdout",
          "text": [
            "['DiSNep']\n"
          ]
        }
      ]
    },
    {
      "cell_type": "code",
      "metadata": {
        "colab": {
          "base_uri": "https://localhost:8080/"
        },
        "id": "jPE1nYETPkW9",
        "outputId": "09598624-f82d-4f71-9561-95f36fcffd3e"
      },
      "source": [
        "import easyocr\n",
        "reader = easyocr.Reader(['en']) \n",
        "result = reader.readtext('/content/images/quote.jpg',detail=0)\n",
        "print(result)"
      ],
      "execution_count": 21,
      "outputs": [
        {
          "output_type": "stream",
          "name": "stderr",
          "text": [
            "CUDA not available - defaulting to CPU. Note: This module is much faster with a GPU.\n"
          ]
        },
        {
          "output_type": "stream",
          "name": "stdout",
          "text": [
            "['IF YOU', 'DONT KNOW', 'WHERE YOU ARE', 'GOING,', 'ANY ROAD', 'WILL GET YOU', 'THERE.', 'Ruwsy €civll', 'Sayinglmages com']\n"
          ]
        }
      ]
    },
    {
      "cell_type": "code",
      "metadata": {
        "colab": {
          "base_uri": "https://localhost:8080/"
        },
        "id": "TZ7FfpalTL8O",
        "outputId": "92a1800c-0c03-47b1-9f20-04601761c454"
      },
      "source": [
        "import easyocr\n",
        "reader = easyocr.Reader(['en']) \n",
        "result = reader.readtext('/content/images/banner_quote.jpg',detail=0)\n",
        "print(result)"
      ],
      "execution_count": 22,
      "outputs": [
        {
          "output_type": "stream",
          "name": "stderr",
          "text": [
            "CUDA not available - defaulting to CPU. Note: This module is much faster with a GPU.\n"
          ]
        },
        {
          "output_type": "stream",
          "name": "stdout",
          "text": [
            "['is', 'fresh', 'start;', 'Every', 'day']\n"
          ]
        }
      ]
    }
  ]
}